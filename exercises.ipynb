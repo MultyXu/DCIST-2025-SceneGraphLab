{
 "cells": [
  {
   "cell_type": "markdown",
   "id": "84f515fb",
   "metadata": {},
   "source": [
    "## Introduction to 3D Scene Graphs\n",
    "\n",
    "This notebook is designed to teach you how to use\n",
    "[spark_dsg](https://github.com/MIT-SPARK/Spark-DSG/tree/develop).\n",
    "Note that we are using the `develop` branch of `spark_dsg`.\n",
    "\n",
    "This notebook is divided into 4 sections:\n",
    "  1. [Introduction to Spark-DSG](#Introduction-to-Spark-Dsg): Examples and documentation around the Spark-DSG API\n",
    "  2. [The Scene Graph Datastructure](#The-Scene-Graph-Datastructure): Exercises and examples for working with nodes, edges and attributes\n",
    "  3. [Planning and Graph Search on 3D Scene Graphs](#Planning-and-Graph-Search-on-3D-Scene-Graphs): More detailed exercises on how to using the graph datastructure\n",
    "  4. [Using External Libraries](#Using-External-Libraries): How to export and use 3D scene graphs with `networkx` and `pytorch_geometric`\n",
    "\n",
    "This notebook will download several example scene graphs from [here](https://drive.google.com/drive/folders/1ONZ0Sx_tgNtS1gmGAiyRuhp1B6iw4-9E?usp=sharing).\n",
    "Most examples will reference the `uhumans2_office_ade20k_full_dsg_with_mesh.json` file.\n",
    "\n",
    "If you are having trouble getting the automatic download to work, we can help manually download them for you (they should go in the `src/dcist_sgl/scene_graphs` directory relative to this file)."
   ]
  },
  {
   "cell_type": "markdown",
   "id": "b3d93257",
   "metadata": {},
   "source": [
    "### Introduction to Spark-DSG\n",
    "\n",
    "This section of the notebook introduces parts of the Spark-DSG API you will need to be familiar with to do the rest of the notebook."
   ]
  },
  {
   "cell_type": "code",
   "execution_count": null,
   "id": "3ddd37df",
   "metadata": {},
   "outputs": [],
   "source": [
    "import spark_dsg as dsg"
   ]
  },
  {
   "cell_type": "markdown",
   "id": "7e74993b",
   "metadata": {},
   "source": [
    "#### Reading and Writing Scene Graphs\n",
    "\n",
    "We often distribute 3D scene graphs in their serialized JSON format.\n",
    "This is compatiable with [nx.node_link_graph](https://networkx.org/documentation/stable/reference/readwrite/generated/networkx.readwrite.json_graph.node_link_graph.html#networkx.readwrite.json_graph.node_link_graph) (which is based on the `d3.js` graph representation).\n",
    "We also have a binary serialization format (roughly based on `msgpack`) that we use for inter-process communication (e.g., ROS).\n",
    "\n",
    "You can load a scene graph from a saved file by\n",
    "```python\n",
    "G = dsg.load(\"path/to/dsg.json\")\n",
    "```\n",
    "and save the scene graph in the same manner:\n",
    "```python\n",
    "G.save(\"output.json\", include_mesh=True)\n",
    "```\n",
    "\n",
    "The following cell sets up a few dependencies for the rest of the notebook and downloads and loads all the example scene graphs. Internally, the library we've set up for this lab (`dcist_sgl`) is calling `dsg.load(\"scene_graphs/[FILENAME].json\")` for every downloaded file."
   ]
  },
  {
   "cell_type": "code",
   "execution_count": null,
   "id": "e686899a",
   "metadata": {},
   "outputs": [],
   "source": [
    "import heapq\n",
    "import pprint\n",
    "import random\n",
    "\n",
    "import dcist_sgl\n",
    "import matplotlib.pyplot as plt\n",
    "import numpy as np\n",
    "import seaborn as sns\n",
    "\n",
    "%matplotlib ipympl\n",
    "\n",
    "graphs = dcist_sgl.load_examples()\n",
    "\n",
    "# This sets the graph to use for the following examples and exercises.\n",
    "# Feel free to browse the available examples and pick a different one!\n",
    "G = graphs[\"uhumans2_office_ade20k_full_dsg_with_mesh\"].clone()"
   ]
  },
  {
   "cell_type": "code",
   "execution_count": null,
   "id": "b8f3e367",
   "metadata": {},
   "outputs": [],
   "source": [
    "type(G)"
   ]
  },
  {
   "cell_type": "markdown",
   "id": "8a4c1bf5",
   "metadata": {},
   "source": [
    "#### Layers and Partitions\n",
    "\n",
    "Any scene graph in `spark_dsg` contains some number of layers; these layers each have a numerical layer ID. These layer IDs enforcing a hierarchy between the layers. For example, our typical \"schema\" has objects assigned to layer 2 and places assigned to layer 3. Any edge between a place node and an object node considers the place node the \"parent\" in the relationship and the object node the \"child\".\n",
    "\n",
    "Each numerical layer ID can be associated with multiple partitions (each with their own numerical partition ID). Each layer has a default \"primary\" partition (ID 0) and arbitrary \"secondary\" partitions.\n",
    "You can access any layer with numerical IDs via\n",
    "```python\n",
    "G.get_layer(layer_id, partition_id)\n",
    "```\n",
    "\n",
    "We also support lookup of layers by human-readable names, e.g.,\n",
    "```python\n",
    "G.get_layer(dsg.DsgLayers.OBJECTS)\n",
    "```\n",
    "where `dsg.DsgLayers.OBJECTS` maps to the string \"OBJECTS\".\n",
    "\n",
    "See the cell below for more examples!"
   ]
  },
  {
   "cell_type": "code",
   "execution_count": null,
   "id": "b08581e3",
   "metadata": {},
   "outputs": [],
   "source": [
    "# basic information about the different layers\n",
    "print(f\"Number of objects: {G.get_layer(dsg.DsgLayers.OBJECTS).num_nodes()}\")\n",
    "print(f\"Number of places: {G.get_layer(dsg.DsgLayers.PLACES).num_nodes()}\")\n",
    "print(f\"Number of rooms: {G.get_layer(dsg.DsgLayers.ROOMS).num_nodes()}\")\n",
    "\n",
    "# more about \"a\" as a partition ID later, but \"a\" is mapped internally to the corresponding ASCII value 97\n",
    "print(f\"Number of robot poses: {G.get_layer(2, 'a').num_nodes()}\")\n",
    "\n",
    "# get the numerical IDs associated with a layer name\n",
    "print(\"Places layer and partition:\", G.get_layer_key(dsg.DsgLayers.PLACES))\n",
    "print(\"2D Places layer and partition:\", G.get_layer_key(dsg.DsgLayers.MESH_PLACES))"
   ]
  },
  {
   "cell_type": "code",
   "execution_count": null,
   "id": "89c41f1c",
   "metadata": {},
   "outputs": [],
   "source": [
    "G.get_layer(2,0)"
   ]
  },
  {
   "cell_type": "code",
   "execution_count": null,
   "id": "7da0dc63",
   "metadata": {},
   "outputs": [],
   "source": [
    "print(G.get_layer_key(dsg.DsgLayers.AGENTS))\n",
    "print(G.get_layer_key(dsg.DsgLayers.OBJECTS))\n",
    "print(G.get_layer_key(dsg.DsgLayers.PLACES))\n",
    "print(G.get_layer_key(dsg.DsgLayers.MESH_PLACES))\n",
    "print(G.get_layer_key(dsg.DsgLayers.ROOMS))"
   ]
  },
  {
   "cell_type": "markdown",
   "id": "c5429e64",
   "metadata": {},
   "source": [
    "#### Nodes and Edges\n",
    "\n",
    "Every node in the scene graph has an unique integer ID that has a corresponding human-readable \"symbol\" that consists of a prefix character (e.g., 'O', 'p', 'R') and an index (e.g., 3, 15). You can get the integer ID from a \"node symbol\" via\n",
    "```python\n",
    "dsg.NodeSymbol('P', 4).value  # returns 5764607523034234884\n",
    "```\n",
    "\n",
    "Many scene graph and scene graph layer methods will convert node symbol arguments, i.e., `G.has_node(5764607523034234884)` and `G.has_node(dsg.NodeSymbol('P', 4))` will function the same.\n",
    "\n",
    "Every node in the graph has a set of attributes; these differ depending on the type of node. However, every node at least has a position and timestamp associated with it.\n",
    "\n",
    "Edges are keyed as source and target node IDs and are undirected. Edges also carry attributes, though these are less commonly used.\n",
    "\n",
    "See the cell below for some examples with nodes and edges!"
   ]
  },
  {
   "cell_type": "code",
   "execution_count": null,
   "id": "c2c9b219",
   "metadata": {},
   "outputs": [],
   "source": [
    "G.get_node(dsg.NodeSymbol('p',0))"
   ]
  },
  {
   "cell_type": "code",
   "execution_count": null,
   "id": "5c6af9df",
   "metadata": {},
   "outputs": [],
   "source": [
    "first_object = None\n",
    "for node in G.get_layer(dsg.DsgLayers.OBJECTS).nodes:\n",
    "    first_object = node\n",
    "    break\n",
    "\n",
    "print(first_object)\n",
    "\n",
    "first_place_edge = None\n",
    "for edge in G.get_layer(dsg.DsgLayers.PLACES).edges:\n",
    "    first_place_edge = edge\n",
    "\n",
    "print(first_place_edge)\n",
    "\n",
    "# you can get nodes and edges directly from the scene graph\n",
    "source = G.get_node(first_place_edge.source)\n",
    "print(f\"Source {source.id.str()} siblings: {[dsg.NodeSymbol(x).str() for x in source.siblings()]}\")\n",
    "print(f\"Target information:\\n{G.get_node(first_place_edge.target).attributes}\")"
   ]
  },
  {
   "cell_type": "code",
   "execution_count": null,
   "id": "8dc617bd",
   "metadata": {},
   "outputs": [],
   "source": [
    "first_object.attributes"
   ]
  },
  {
   "cell_type": "code",
   "execution_count": null,
   "id": "de3ef279",
   "metadata": {},
   "outputs": [],
   "source": [
    "print(source.siblings())\n",
    "print(G.get_node(dsg.NodeSymbol('p', 13)).attributes)"
   ]
  },
  {
   "cell_type": "code",
   "execution_count": null,
   "id": "97bb3094",
   "metadata": {},
   "outputs": [],
   "source": [
    "dsg.NodeSymbol('p', 13)\n",
    "help(dsg.NodeSymbol)"
   ]
  },
  {
   "cell_type": "code",
   "execution_count": null,
   "id": "f9f885d3",
   "metadata": {},
   "outputs": [],
   "source": [
    "print(dsg.NodeSymbol('p', 13).str())\n"
   ]
  },
  {
   "cell_type": "markdown",
   "id": "c9d7f7fe",
   "metadata": {},
   "source": [
    "#### Getting information about `spark_dsg`\n",
    "\n",
    "You may find `help` useful in determining avaiable methods and properties of different objects in `spark_dsg`. We've already ran `help` for a couple of the more helpful objects that you may use!"
   ]
  },
  {
   "cell_type": "code",
   "execution_count": null,
   "id": "ed8d421b",
   "metadata": {},
   "outputs": [],
   "source": [
    "help(dsg.SceneGraphNode)"
   ]
  },
  {
   "cell_type": "code",
   "execution_count": null,
   "id": "d1d68fc8",
   "metadata": {},
   "outputs": [],
   "source": [
    "dsg.SceneGraphNode.__repr__(G.get_node(dsg.NodeSymbol('p', 13)))"
   ]
  },
  {
   "cell_type": "code",
   "execution_count": null,
   "id": "b35786c7",
   "metadata": {},
   "outputs": [],
   "source": [
    "help(dsg.SemanticNodeAttributes)  # many of the node attributes inherit from this class"
   ]
  },
  {
   "cell_type": "markdown",
   "id": "67abeca2",
   "metadata": {},
   "source": [
    "### The Scene Graph Datastructure\n",
    "\n",
    "This section of the notebook is designed to familiarize you with the 3D scene graph\n",
    "datastructure as it is represented in `spark_dsg`."
   ]
  },
  {
   "cell_type": "markdown",
   "id": "dddaa451",
   "metadata": {
    "lines_to_next_cell": 2
   },
   "source": [
    "#### Exercise 1.1\n",
    "Find the node IDs of all the object nodes with bounding boxes of volume larger than 1 m^3. You may find the following helpful:"
   ]
  },
  {
   "cell_type": "code",
   "execution_count": null,
   "id": "ab6c7171",
   "metadata": {},
   "outputs": [],
   "source": [
    "help(dsg.BoundingBox.volume)\n",
    "help(dsg.DynamicSceneGraph.get_node)\n",
    "help(dsg.SceneGraphNode)"
   ]
  },
  {
   "cell_type": "code",
   "execution_count": null,
   "id": "dc0a88ea",
   "metadata": {
    "lines_to_next_cell": 2
   },
   "outputs": [],
   "source": [
    "def get_big_objects(G: dsg.DynamicSceneGraph, volume: float = 1.0):\n",
    "    big_nodes: List[dsg.NodeSymbol] = []\n",
    "\n",
    "    # =======================\n",
    "    # TODO: Fill in code here\n",
    "    # =======================\n",
    "    for node in G.get_layer(dsg.DsgLayers.OBJECTS).nodes:\n",
    "        if node.attributes.bounding_box.volume() > volume:\n",
    "            big_nodes.append(node.id)\n",
    "        \n",
    "\n",
    "    return big_nodes\n",
    "\n",
    "\n",
    "big_objects = get_big_objects(G, volume=1.5)\n",
    "total_nodes = G.get_layer(dsg.DsgLayers.OBJECTS).num_nodes()\n",
    "print(f\"Objects: {len(big_objects)} / {total_nodes} ({len(big_objects) / total_nodes:.3%})\")\n",
    "pprint.pprint([x.str(False) for x in big_objects])"
   ]
  },
  {
   "cell_type": "markdown",
   "id": "40c3ea62",
   "metadata": {},
   "source": [
    "<details>\n",
    "    <summary>Solution (click to reveal!)</summary>\n",
    "\n",
    "The solution for this exercise is to just iterate through the nodes in the object layer and use the bounding box attribute:\n",
    "```python\n",
    "big_nodes = [\n",
    "    x.id\n",
    "    for x in G.get_layer(dsg.DsgLayers.OBJECTS).nodes\n",
    "    if x.attributes.bounding_box.volume() > volume\n",
    "]\n",
    "```"
   ]
  },
  {
   "cell_type": "markdown",
   "id": "95bfbc44",
   "metadata": {
    "lines_to_next_cell": 2
   },
   "source": [
    "#### Exercise 1.2\n",
    "Compute a histogram of object labels keyed by human-readable category name"
   ]
  },
  {
   "cell_type": "code",
   "execution_count": null,
   "id": "822e1773",
   "metadata": {},
   "outputs": [],
   "source": [
    "key = G.get_layer_key(dsg.DsgLayers.OBJECTS)\n",
    "labelspace = G.get_labelspace(key.layer, key.partition)\n",
    "\n",
    "print(labelspace.get_category(1))\n",
    "print(labelspace.get_label('airplane'))"
   ]
  },
  {
   "cell_type": "code",
   "execution_count": null,
   "id": "b853995f",
   "metadata": {},
   "outputs": [],
   "source": [
    "help(node.attributes)"
   ]
  },
  {
   "cell_type": "code",
   "execution_count": null,
   "id": "192b6d2f",
   "metadata": {},
   "outputs": [],
   "source": [
    "node = G.get_node(dsg.NodeSymbol('O', 13))\n",
    "print(type(node.attributes))\n",
    "print(labelspace.get_node_category(node))\n",
    "print(node.attributes.semantic_label)"
   ]
  },
  {
   "cell_type": "code",
   "execution_count": null,
   "id": "842cdf43",
   "metadata": {
    "lines_to_next_cell": 2
   },
   "outputs": [],
   "source": [
    "def get_object_label_histogram(G: dsg.DynamicSceneGraph):\n",
    "    key = G.get_layer_key(dsg.DsgLayers.OBJECTS)\n",
    "    labelspace = G.get_labelspace(key.layer, key.partition)\n",
    "\n",
    "    histogram = {}\n",
    "    for name in labelspace.names_to_labels:\n",
    "        histogram[name] = 0\n",
    "    # print(histogram)\n",
    "    # =======================\n",
    "    # TODO: Fill in code here\n",
    "    # =======================\n",
    "    for node in G.get_layer(dsg.DsgLayers.OBJECTS).nodes:\n",
    "        label = labelspace.get_node_category(node)\n",
    "        if label is not None:\n",
    "            histogram[label] += 1\n",
    "        else:\n",
    "            raise ValueError(f\"Node {node.id.str()} has no label in the labelspace.\")\n",
    "\n",
    "    return histogram\n",
    "\n",
    "\n",
    "label_counts = get_object_label_histogram(G)\n",
    "pprint.pprint({k: v for k, v in label_counts.items() if v > 0})"
   ]
  },
  {
   "cell_type": "markdown",
   "id": "4363a733",
   "metadata": {},
   "source": [
    "<details>\n",
    "    <summary>Solution (click to reveal!)</summary>\n",
    "\n",
    "The solution for this exercise (i) iterates through the object layer nodes and (ii) uses the semantic (integer) label of the node to look up the corresponding category name:\n",
    "```python\n",
    "for node in G.get_layer(dsg.DsgLayers.OBJECTS).nodes:\n",
    "    histogram[labelspace.labels_to_names[node.attributes.semantic_label]] += 1\n",
    "```\n",
    "<br>\n",
    "\n",
    "This example only applies to closed-set objects.\n",
    "Language features can be accessed and used through the `semantic_feature` attribute,\n",
    "which would be required (along with the associated category embeddings) if you tried to implement something similar for\n",
    "some sort of zero-shot set of categories.\n",
    "\n",
    "</details>"
   ]
  },
  {
   "cell_type": "markdown",
   "id": "6b5cb140",
   "metadata": {
    "lines_to_next_cell": 2
   },
   "source": [
    "#### Exercise 1.3\n",
    "\n",
    "Plot the 2D x-y projection of the robot trajectory. Note that information about the trajectory is contained in a partition of the AGENTS layer, where the partition ID is the ASCII value of the identifier for that particular robot (typically one of `['a', 'b', 'c', 'd', 'e']`). All of the provided scene graphs are built with a single robot that has the identifier 'a'. The layer name AGENTS maps to the \"primary\" partition of the layer that contains all of the agent trajectories."
   ]
  },
  {
   "cell_type": "code",
   "execution_count": null,
   "id": "895ad3bb",
   "metadata": {},
   "outputs": [],
   "source": [
    "for node in G.get_layer(2, 'a').nodes:\n",
    "    # help(node.attributes)\n",
    "    print(f\"Robot at {node.attributes.position} at time {node.attributes.timestamp}\")"
   ]
  },
  {
   "cell_type": "code",
   "execution_count": null,
   "id": "5c9c4363",
   "metadata": {},
   "outputs": [],
   "source": [
    "def plot_agent_trajectory(G):\n",
    "    fig = plt.figure(figsize=(8, 5))\n",
    "    with sns.axes_style(\"whitegrid\"):\n",
    "        ax = fig.add_subplot()\n",
    "        ax.axis(\"equal\")\n",
    "\n",
    "    # =======================\n",
    "    # TODO: Fill in code here\n",
    "    # =======================\n",
    "        # plot dots\n",
    "        # for node in G.get_layer(2, 'a').nodes:\n",
    "        #     position = node.attributes.position\n",
    "        #     ax.plot(position[0], position[1], marker='o', markersize=3, color='blue', alpha=0.5)\n",
    "        #     # ax.text(position[0], position[1], f\"{node.attributes.timestamp:.2f}\", fontsize=8, ha='right')\n",
    "            \n",
    "        key = G.get_layer_key(dsg.DsgLayers.AGENTS)\n",
    "        \n",
    "        # plot lines\n",
    "        points = []\n",
    "        for node in G.get_layer(key.layer, \"a\").nodes:\n",
    "            points.append(node.attributes.position)\n",
    "\n",
    "        points = np.array(points)\n",
    "        ax.plot(points[:, 0], points[:, 1])\n",
    "\n",
    "    fig.tight_layout()\n",
    "\n",
    "\n",
    "plot_agent_trajectory(G)"
   ]
  },
  {
   "cell_type": "markdown",
   "id": "12ab43a8",
   "metadata": {},
   "source": [
    "<details>\n",
    "    <summary>Solution (click to reveal!)</summary>\n",
    "\n",
    "```python\n",
    "key = G.get_layer_key(dsg.DsgLayers.AGENTS)\n",
    "\n",
    "points = []\n",
    "for node in G.get_layer(key.layer, \"a\").nodes:\n",
    "    points.append(node.attributes.position)\n",
    "\n",
    "points = np.array(points)\n",
    "ax.plot(points[:, 0], points[:, 1])\n",
    "```\n",
    "<br>\n",
    "\n",
    "</details>"
   ]
  },
  {
   "cell_type": "markdown",
   "id": "eed8fe72",
   "metadata": {
    "lines_to_next_cell": 2
   },
   "source": [
    "#### Exercise 1.4\n",
    "\n",
    "Create a histogram of the object categories in each room"
   ]
  },
  {
   "cell_type": "code",
   "execution_count": null,
   "id": "689020f6",
   "metadata": {},
   "outputs": [],
   "source": [
    "def get_object_counts_per_room(G):\n",
    "    # This should be a mapping between the node ID of each room and a dictionary\n",
    "    # containing the category name and number of object instances for that category\n",
    "    room_object_counts = {}\n",
    "\n",
    "    # =======================\n",
    "    # TODO: Fill in code here\n",
    "    # =======================\n",
    "    key = G.get_layer_key(dsg.DsgLayers.OBJECTS)\n",
    "    labelspace = G.get_labelspace(key.layer, key.partition)\n",
    "    \n",
    "    #### it's better to initialize the objects counts as zero, as if we want to key into the dictionary, we don't want to get a KeyError\n",
    "    \n",
    "    for room_node in G.get_layer(dsg.DsgLayers.ROOMS).nodes:\n",
    "        categories = {}\n",
    "        \n",
    "        # Iterate over all places in the room\n",
    "        for place_node_key in room_node.children():\n",
    "            place_node = G.get_node(place_node_key)\n",
    "            \n",
    "            # Iterate over all objects in the place\n",
    "            for object_node_key in place_node.children():\n",
    "                object_node = G.get_node(object_node_key)\n",
    "                if object_node.id.category != \"O\":\n",
    "                    continue\n",
    "                \n",
    "                object_name = labelspace.labels_to_names[object_node.attributes.semantic_label]\n",
    "                if object_name in categories:\n",
    "                    categories[object_name] += 1\n",
    "                else:\n",
    "                    categories[object_name] = 1\n",
    "\n",
    "        room_object_counts[room_node.id.str()] = categories\n",
    "    \n",
    "    return room_object_counts\n",
    "\n",
    "\n",
    "room_object_counts = get_object_counts_per_room(G)\n",
    "for room_id, counts in room_object_counts.items():\n",
    "    print(f\"Room {room_id}:\")\n",
    "    pprint.pprint({k: v for k, v in counts.items() if v > 0}, indent=2)"
   ]
  },
  {
   "cell_type": "markdown",
   "id": "c9246630",
   "metadata": {},
   "source": [
    "<details>\n",
    "    <summary>Solution (click to reveal!)</summary>\n",
    "\n",
    "Any solution to this problem requires going through the places layer to connect the objects to the rooms.\n",
    "```python\n",
    "key = G.get_layer_key(dsg.DsgLayers.OBJECTS)\n",
    "labelspace = G.get_labelspace(key.layer, key.partition)\n",
    "\n",
    "for room in G.get_layer(dsg.DsgLayers.ROOMS).nodes:\n",
    "    curr_histogram = {n: 0 for n in labelspace.names_to_labels}\n",
    "    for place_id in room.children():\n",
    "        place = G.get_node(place_id)\n",
    "        for child_id in place.children():\n",
    "            if dsg.NodeSymbol(child_id).category != \"O\":\n",
    "                continue\n",
    "\n",
    "            child = G.get_node(child_id)\n",
    "            curr_histogram[labelspace.labels_to_names[child.attributes.semantic_label]] += 1\n",
    "\n",
    "    room_object_counts[room.id] = curr_histogram\n",
    "```\n",
    "<br>\n",
    "\n",
    "</details>"
   ]
  },
  {
   "cell_type": "markdown",
   "id": "226a6843",
   "metadata": {},
   "source": [
    "### Planning and Graph Search on 3D Scene Graphs\n",
    "\n",
    "This section of the notebook is designed to familiarize you with how basic and\n",
    "hierarchical search procedures work with `spark_dsg`.\n",
    "Note that there is active research on hierarchical planning in 3D scene graphs\n",
    "(that we are not attempting to cover)."
   ]
  },
  {
   "cell_type": "markdown",
   "id": "b45eb8a0",
   "metadata": {},
   "source": [
    "#### Exercise 2.1\n",
    "\n",
    "Given two place nodes, produce the shortest path between them in the places layer. We provide most of the implementation for A*; the only parts you have to fill in is (i) the computation of the path length to each node being considered for expansion and (ii) the computation of the heuristic between the node being considered for expansion and the goal."
   ]
  },
  {
   "cell_type": "code",
   "execution_count": null,
   "id": "3e3e9795",
   "metadata": {},
   "outputs": [],
   "source": [
    "def get_path_recursive(parents, prev_path, source):\n",
    "    \"\"\"Translates parent map to an actual list of node IDs in a path.\"\"\"\n",
    "    to_expand = prev_path[0]\n",
    "    if to_expand == source:\n",
    "        return prev_path\n",
    "\n",
    "    return get_path_recursive(parents, [parents[to_expand]] + prev_path, source)\n",
    "\n",
    "\n",
    "def plan_path(G: dsg.DynamicSceneGraph, source: int, target: int, layer_name: str = dsg.DsgLayers.PLACES, is_valid=None):\n",
    "    \"\"\"Plan a path between the source and target node.\"\"\"\n",
    "    layer = G.get_layer(layer_name)\n",
    "    if not layer.has_node(source) or not layer.has_node(target):\n",
    "        print(f\"Graph does not contain {dsg.NodeSymbol(source).str()} or {dsg.NodeSymbol(target).str()}\")\n",
    "        return None\n",
    "\n",
    "    visited = set()\n",
    "    open_set = [(0.0, source)]\n",
    "    cost_to_go = {source: 0.0}\n",
    "    parents = {}\n",
    "    while len(open_set) > 0:\n",
    "        _, node_id = heapq.heappop(open_set)\n",
    "        if node_id == target:\n",
    "            break\n",
    "\n",
    "        if node_id in visited:\n",
    "            continue\n",
    "\n",
    "        visited.add(node_id)\n",
    "        curr_node = G.get_node(node_id)\n",
    "        curr_dist = cost_to_go[node_id]\n",
    "\n",
    "        for sibling_id in curr_node.siblings():\n",
    "            if is_valid is not None and not is_valid(sibling_id):\n",
    "                continue\n",
    "\n",
    "            sibling = G.get_node(sibling_id)\n",
    "\n",
    "            g = 0.0  # cost to go (i.e., total distance to sibling node)\n",
    "            h = 0.0  # heuristic estimate (euclidean distance to target)\n",
    "\n",
    "            # =======================\n",
    "            # TODO: Fill in code here\n",
    "            # =======================\n",
    "\n",
    "            f = g + h\n",
    "            if sibling_id in cost_to_go and f >= cost_to_go[sibling_id]:\n",
    "                continue\n",
    "\n",
    "            cost_to_go[sibling_id] = g\n",
    "            parents[sibling_id] = node_id\n",
    "            heapq.heappush(open_set, (f, sibling_id))\n",
    "\n",
    "    if target not in parents:\n",
    "        print(f\"No viable path to target {dsg.NodeSymbol(target).str()}\")\n",
    "        return None\n",
    "\n",
    "    return get_path_recursive(parents, [target], source)\n",
    "\n",
    "\n",
    "place_ids = [x.id.value for x in G.get_layer(dsg.DsgLayers.PLACES).nodes]\n",
    "random.seed(12345678)\n",
    "random.shuffle(place_ids)\n",
    "\n",
    "path = plan_path(G, place_ids[0], place_ids[1])\n",
    "dcist_sgl.show_planning_result(G, path)"
   ]
  },
  {
   "cell_type": "markdown",
   "id": "d2a1c831",
   "metadata": {},
   "source": [
    "<details>\n",
    "    <summary>Solution (click to reveal!)</summary>\n",
    "\n",
    "Note that it is slightly more efficient to pre-compute the edge distances and/or cache some of the positions earlier in the algorithm, but this is the most self-contained way to compute the relevant quantitites:\n",
    "\n",
    "```python\n",
    "p_target = G.get_node(target).attributes.position\n",
    "p_curr = curr_node.attributes.position\n",
    "p_sibling = sibling.attributes.position\n",
    "g = np.linalg.norm(p_curr - p_sibling) + curr_dist\n",
    "h = np.linalg.norm(p_target - p_sibling)\n",
    "```\n",
    "<br>\n",
    "\n",
    "</details>"
   ]
  },
  {
   "cell_type": "markdown",
   "id": "00a13870",
   "metadata": {},
   "source": [
    "#### Exercise 2.2\n",
    "\n",
    "Given a region and two place nodes that are contained in the region, return the shortest path between the two place nodes that remains inside the region. `plan_path` from the previous exercise takes an optional filter when expanding nodes that you can use to accomplish this."
   ]
  },
  {
   "cell_type": "code",
   "execution_count": null,
   "id": "86b94a8f",
   "metadata": {},
   "outputs": [],
   "source": [
    "def plan_path_in_region(G: dsg.DynamicSceneGraph, region: int, source: int, target: int):\n",
    "    \"\"\"Plan a path between the source and target node inside a region.\"\"\"\n",
    "\n",
    "    # =======================\n",
    "    # TODO: Fill in code here\n",
    "    # =======================\n",
    "\n",
    "    def node_in_region(node_id):\n",
    "        \"\"\"Check if node exists in region.\"\"\"\n",
    "        in_region = True\n",
    "        # =======================\n",
    "        # TODO: Fill in code here\n",
    "        # =======================\n",
    "        return in_region\n",
    "\n",
    "\n",
    "    return plan_path(G, source, target, is_valid=node_in_region)\n",
    "\n",
    "region_ids = [x.id.value for x in G.get_layer(dsg.DsgLayers.ROOMS).nodes]\n",
    "random.shuffle(region_ids)\n",
    "\n",
    "region = region_ids[0]\n",
    "children = dcist_sgl.get_room_children(G, region)\n",
    "random.shuffle(children)\n",
    "\n",
    "path = plan_path_in_region(G, region, children[0], children[1])\n",
    "dcist_sgl.show_region_planning_result(G, path, region)"
   ]
  },
  {
   "cell_type": "markdown",
   "id": "1a343d1f",
   "metadata": {},
   "source": [
    "<details>\n",
    "    <summary>Solution (click to reveal!)</summary>\n",
    "\n",
    "To set up the filter, we populate all the children of the region:\n",
    "```python\n",
    "parent = G.get_node(region)\n",
    "children = set([x for x in parent.children() if G.get_layer(dsg.DsgLayers.PLACES).has_node(x)])\n",
    "```\n",
    "<br>\n",
    "\n",
    "The filter itself is just\n",
    "```python\n",
    "in_region = node_id in children\n",
    "```\n",
    "<br>\n",
    "and can be condensed to `return node_id in children` if desired. \n",
    "\n",
    "</details>"
   ]
  },
  {
   "cell_type": "markdown",
   "id": "6c193457",
   "metadata": {},
   "source": [
    "#### Exercise 2.3\n",
    "\n",
    "Find the shortest path between two points by:\n",
    "  - Looking up the regions that contain the start and goal place\n",
    "  - Planning the shortest path through the regions between the start and goal region\n",
    "  - Concatenating the shortest path between each pair of regions through the places layer"
   ]
  },
  {
   "cell_type": "code",
   "execution_count": null,
   "id": "3b3a62e3",
   "metadata": {},
   "outputs": [],
   "source": [
    "def plan_path_through_regions(G: dsg.DynamicSceneGraph, start: int, end: int):\n",
    "    \"\"\"Plan a path between two places using the region layer.\"\"\"\n",
    "    start_node = G.get_node(start)\n",
    "    end_node = G.get_node(end)\n",
    "    if not start_node.has_parent() or not end_node.has_parent():\n",
    "        return []\n",
    "\n",
    "    room_sequence = []\n",
    "\n",
    "    # =========================================================\n",
    "    # TODO: Fill in code here to get a path through the regions\n",
    "    # =========================================================\n",
    "\n",
    "    if len(room_sequence) == 1:\n",
    "        return plan_path_in_region(G, room_sequence[0], start, end)\n",
    "    \n",
    "    path = []\n",
    "    prev_place = start\n",
    "    for i in range(1, len(room_sequence)):\n",
    "        prev_room_place, next_room_place = dcist_sgl.get_room_connection(G, room_sequence[i - 1], room_sequence[i])\n",
    "        path += plan_path_in_region(G, room_sequence[i - 1], prev_place, prev_room_place)\n",
    "        path.append(next_room_place)\n",
    "        prev_place = next_room_place\n",
    "\n",
    "    return path\n",
    "\n",
    "\n",
    "path = plan_path_through_regions(G, place_ids[0], place_ids[1])\n",
    "dcist_sgl.show_planning_result(G, path)"
   ]
  },
  {
   "cell_type": "markdown",
   "id": "fe3d7fb6",
   "metadata": {},
   "source": [
    "<details>\n",
    "    <summary>Solution (click to reveal!)</summary>\n",
    "\n",
    "```python\n",
    "room_sequence = plan_path(G, start_node.get_parent(), end_node.get_parent(), layer_name=dsg.DsgLayers.ROOMS)\n",
    "```\n",
    "<br>\n",
    "\n",
    "</details>"
   ]
  },
  {
   "cell_type": "markdown",
   "id": "9ac8fcac",
   "metadata": {},
   "source": [
    "### Using External Libraries"
   ]
  },
  {
   "cell_type": "markdown",
   "id": "ebe91a1e",
   "metadata": {},
   "source": [
    "#### Example 3.1\n",
    "\n",
    "This example converts the places layer to networkx and uses an approximate TSP solver from networkx to plan a cycle between a list of place nodes"
   ]
  },
  {
   "cell_type": "code",
   "execution_count": null,
   "id": "0272f2e5",
   "metadata": {},
   "outputs": [],
   "source": [
    "from spark_dsg.networkx import layer_to_networkx\n",
    "import networkx as nx\n",
    "\n",
    "layer_nx = layer_to_networkx(G.get_layer(dsg.DsgLayers.PLACES))\n",
    "for source, target in layer_nx.edges:\n",
    "    pos_s = layer_nx.nodes[source][\"position\"]\n",
    "    pos_t = layer_nx.nodes[target][\"position\"]\n",
    "    dist = np.linalg.norm(pos_s - pos_t)\n",
    "    layer_nx.edges[source, target][\"dist\"] = dist\n",
    "\n",
    "# weight for TSP solver is actually cost\n",
    "path = nx.approximation.traveling_salesman_problem(layer_nx, nodes=place_ids[:10], weight=\"dist\")\n",
    "dcist_sgl.show_planning_result(G, path)"
   ]
  },
  {
   "cell_type": "markdown",
   "id": "d7d9bf84",
   "metadata": {},
   "source": [
    "#### Example 3.2\n",
    "\n",
    "This example uses [pytorch-geometric](https://pytorch-geometric.readthedocs.io/en/latest/) to locally average the positions of the nodes in the place layer."
   ]
  },
  {
   "cell_type": "code",
   "execution_count": null,
   "id": "fda322e3",
   "metadata": {},
   "outputs": [],
   "source": [
    "import torch\n",
    "import torch_geometric.nn as pyg_nn\n",
    "\n",
    "\n",
    "class Classifier(torch.nn.Module):\n",
    "\n",
    "    def __init__(self, x_value):\n",
    "        super().__init__()\n",
    "        self.x_value = x_value\n",
    "        self.conv = pyg_nn.SimpleConv(aggr=\"mean\", combine_root=\"self_loop\")\n",
    "\n",
    "    def forward(self, x, edge_index):\n",
    "        x = self.conv(x, edge_index)\n",
    "        return (x[:, 0] > self.x_value).to(torch.int64)\n",
    "\n",
    "def node_feature(G, node):\n",
    "    return node.attributes.position\n",
    "\n",
    "\n",
    "G_torch = G.get_layer(dsg.DsgLayers.PLACES).to_torch(node_feature)\n",
    "model = Classifier(5.0)\n",
    "y = model(G_torch.x, G_torch.edge_index.to(torch.int64))\n",
    "\n",
    "fig = plt.figure(figsize=(8, 5))\n",
    "with sns.axes_style(\"whitegrid\"):\n",
    "    ax = fig.add_subplot()\n",
    "    ax.axis(\"equal\")\n",
    "\n",
    "colors = np.array([[0.0, 0.0, 0.0], [1.0, 0.0, 0.0]])\n",
    "dcist_sgl.draw_layer(ax, G, dsg.DsgLayers.PLACES)\n",
    "ax.scatter(G_torch.pos[:, 0], G_torch.pos[:, 1], color=colors[y])\n",
    "fig.tight_layout()"
   ]
  },
  {
   "cell_type": "code",
   "execution_count": null,
   "id": "a0294663",
   "metadata": {},
   "outputs": [],
   "source": []
  }
 ],
 "metadata": {
  "jupytext": {
   "encoding": "# -*- coding: utf-8 -*-",
   "formats": "ipynb,py:percent"
  },
  "kernelspec": {
   "display_name": "dcist_lab_env",
   "language": "python",
   "name": "python3"
  },
  "language_info": {
   "codemirror_mode": {
    "name": "ipython",
    "version": 3
   },
   "file_extension": ".py",
   "mimetype": "text/x-python",
   "name": "python",
   "nbconvert_exporter": "python",
   "pygments_lexer": "ipython3",
   "version": "3.12.3"
  }
 },
 "nbformat": 4,
 "nbformat_minor": 5
}
